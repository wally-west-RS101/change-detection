{
 "cells": [
  {
   "cell_type": "code",
   "execution_count": null,
   "metadata": {},
   "outputs": [],
   "source": [
    "import geopandas as gpd\n",
    "from shapely.geometry import Polygon\n",
    "import os\n",
    "path = '/home/skymap/data/Bahrain_change/allqc/BAOCAO_26_2/KQ_nomulti/SET_1819.shp'\n",
    "shp_a = gpd.read_file('/home/skymap/data/Bahrain_change/allqc/BAOCAO_26_2/KQ_nomulti/SET_1819.shp')\n",
    "shp_b = gpd.read_file('/home/skymap/data/Bahrain_change/allqc/BAOCAO_26_2/intersec/SET_1819.shp')\n",
    "full_name = os.path.basename(path)\n",
    "name , _ = os.path.splitext(full_name)\n",
    "\n",
    "\n",
    "selected_polygons = []\n",
    "\n",
    "for index, polygon_a in shp_a.iterrows():\n",
    "\n",
    "    intersects_with_b = any(polygon_a['geometry'].intersects(polygon_b['geometry']) for _, polygon_b in shp_b.iterrows())\n",
    "    \n",
    "\n",
    "    if intersects_with_b:\n",
    "        selected_polygons.append(polygon_a)\n",
    "selected_geoseries = gpd.GeoSeries(selected_polygons, crs=shp_a.crs)\n",
    "result = gpd.GeoDataFrame(selected_geoseries, crs=shp_a.crs)\n",
    "\n",
    "# out = os.path.join(out_path,f'{name}.shp')\n",
    "out = '/home/skymap/data/Bahrain_change/allqc/BAOCAO_26_2/intersec_lay_nomulti/SET_1819.shp'\n",
    "# result.to_file(out)"
   ]
  },
  {
   "cell_type": "code",
   "execution_count": 28,
   "metadata": {},
   "outputs": [
    {
     "name": "stdout",
     "output_type": "stream",
     "text": [
      "0     POLYGON ((457335.514 2900768.602, 457335.514 2...\n",
      "1     POLYGON ((458482.896 2900685.459, 458155.864 2...\n",
      "2     POLYGON ((457817.747 2901555.695, 457712.431 2...\n",
      "3     POLYGON ((458937.414 2899576.877, 458915.242 2...\n",
      "4     POLYGON ((457041.740 2900884.013, 457041.740 2...\n",
      "5     POLYGON ((458854.270 2901156.606, 458859.813 2...\n",
      "6     POLYGON ((458466.267 2901899.355, 458460.724 2...\n",
      "7     POLYGON ((457468.544 2900735.345, 457440.829 2...\n",
      "8     POLYGON ((457911.976 2901555.695, 457906.433 2...\n",
      "9     POLYGON ((458621.468 2900724.259, 458621.468 2...\n",
      "10    POLYGON ((459053.815 2899892.823, 459059.358 2...\n",
      "Name: geometry, dtype: geometry\n"
     ]
    },
    {
     "name": "stderr",
     "output_type": "stream",
     "text": [
      "/tmp/ipykernel_2055920/1092886728.py:20: FutureWarning: Currently, index_parts defaults to True, but in the future, it will default to False to be consistent with Pandas. Use `index_parts=True` to keep the current behavior and True/False to silence the warning.\n",
      "  singlepart_gdf = dissolved_result.explode()\n"
     ]
    }
   ],
   "source": [
    "import geopandas as gpd\n",
    "\n",
    "# Đọc dữ liệu từ file shapefile\n",
    "shp_a = gpd.read_file('/home/skymap/data/Bahrain_change/allqc/label_bong_nha_lech/test_code_shp/A.shp')\n",
    "shp_b = gpd.read_file('/home/skymap/data/Bahrain_change/allqc/label_bong_nha_lech/test_code_shp/B.shp')\n",
    "\n",
    "# Lấy ra union của các đối tượng từ shpfile A giao cắt với các đối tượng từ shpfile B\n",
    "result = gpd.overlay(shp_a, shp_b, how='intersection')\n",
    "\n",
    "# Lấy ra các đối tượng từ shpfile A mà giao cắt với các đa giác trong kết quả\n",
    "selected_from_shp_a = shp_a[shp_a.geometry.intersects(result.unary_union)]\n",
    "selected_from_shp_b = shp_b[shp_b.geometry.intersects(result.unary_union)]\n",
    "union_result = gpd.overlay(selected_from_shp_a, selected_from_shp_b, how='union')\n",
    "\n",
    "print(union_result['geometry'])\n",
    "dissolved_result = union_result.dissolve()\n",
    "\n",
    "\n",
    "\n",
    "singlepart_gdf = dissolved_result.explode()\n",
    "# largest_boundary = union_result.unary_union.convex_hull\n",
    "# result = gpd.GeoDataFrame(geometry=[largest_boundary], crs=union_result.crs)\n",
    "out = '/home/skymap/data/Bahrain_change/allqc/label_bong_nha_lech/test_code_shp/out5.shp'\n",
    "# In ra kết quả hoặc lưu ra file shapefile nếu cần\n",
    "singlepart_gdf.to_file(out)\n"
   ]
  },
  {
   "cell_type": "code",
   "execution_count": 32,
   "metadata": {},
   "outputs": [],
   "source": [
    "import geopandas as gpd\n",
    "\n",
    "# Đọc dữ liệu từ file shapefile\n",
    "shp_a = gpd.read_file('/home/skymap/data/Bahrain_change/allqc/BAOCAO_27_2/out_shp_last_6set/SET_1819.shp')\n",
    "shp_b = gpd.read_file('/home/skymap/data/Bahrain_change/allqc/BAOCAO_27_2/test/qc_dis/set1819_qcdiss.shp')\n",
    "\n",
    "# Tìm union của các đa giác từ hai shapefile\n",
    "union_result = gpd.overlay(shp_a, shp_b, how='intersection')\n",
    "\n",
    "# Dissolve dựa trên một cột (ví dụ: 'common_field')\n",
    "\n",
    "\n",
    "union_result.to_file('/home/skymap/data/Bahrain_change/allqc/BAOCAO_27_2/test/testtt_result.shp')"
   ]
  },
  {
   "cell_type": "code",
   "execution_count": 34,
   "metadata": {},
   "outputs": [
    {
     "data": {
      "text/plain": [
       "False"
      ]
     },
     "execution_count": 34,
     "metadata": {},
     "output_type": "execute_result"
    }
   ],
   "source": [
    "a = 'H'\n",
    "a.isdigit()"
   ]
  },
  {
   "cell_type": "code",
   "execution_count": 2,
   "metadata": {},
   "outputs": [],
   "source": [
    "import geopandas as gpd\n",
    "\n",
    "import os,glob\n",
    "\n",
    "input_cd = ''\n",
    "input_shadow = ''\n",
    "out_dir = ''\n",
    "for fp_cd in glob.glob(os.path.join(input_cd,'*.shp')):\n",
    "    full_name = os.path.basename(fp_cd)\n",
    "    name, _ = os.path.splitext(full_name)\n",
    "    path_shp_b = os.path.join(input_shadow,f'{name}.shp')\n",
    "\n",
    "# Đọc dữ liệu từ hai shapefile\n",
    "    shp_a = gpd.read_file(fp_cd)\n",
    "    shp_b = gpd.read_file(path_shp_b)\n",
    "    print('dang xu li ',fp_cd , path_shp_b)\n",
    "\n",
    "    # # Tìm các polygon có sự giao nhau giữa A và B\n",
    "    # intersects = gpd.overlay(shp_a, shp_b, how='intersection')\n",
    "\n",
    "    # # Lọc ra các polygon của A không giao nhau với B\n",
    "    # result = shp_a[~shp_a.geometry.isin(intersects.geometry)]\n",
    "\n",
    "\n",
    "    intersects = gpd.overlay(shp_a, shp_b, how='intersection')\n",
    "\n",
    "    # Lấy danh sách các index của các polygon có sự giao nhau\n",
    "    intersect_indices = intersects.index.tolist()\n",
    "\n",
    "    # Lọc ra các polygon của A không giao nhau với B\n",
    "    result = shp_a[~shp_a.index.isin(intersect_indices)]\n",
    "    out = os.path.join(out_dir,f'{name}.shp')\n",
    "    print('luuuu',out)\n",
    "    # Lưu kết quả vào một shapefile mới\n",
    "    result.to_file(out)\n",
    "    print('done')"
   ]
  },
  {
   "cell_type": "code",
   "execution_count": 3,
   "metadata": {},
   "outputs": [
    {
     "name": "stdout",
     "output_type": "stream",
     "text": [
      "select\n"
     ]
    }
   ],
   "source": [
    "    \n",
    "import  geopandas as gpd\n",
    "\n",
    "shp_a = gpd.read_file('/home/skymap/data/Bahrain_change/allqc/BAOCAO_27_2/test/A/A.shp')\n",
    "shp_b = gpd.read_file('/home/skymap/data/Bahrain_change/allqc/BAOCAO_27_2/test/B/A.shp')\n",
    "\n",
    "intersec = gpd.overlay(shp_a, shp_b, how='intersection')\n",
    "\n",
    "#select polygon A\n",
    "\n",
    "#select_polygon B\n",
    "print('select')\n",
    "\n",
    "#union select\n",
    "\n",
    "\n",
    "sindex_b = shp_b.sindex\n",
    "\n",
    "# Tìm các đa giác của A có ít nhất một phần giao với B sử dụng Spatial Index\n",
    "result_A = []\n",
    "\n",
    "for idx_a, geometry_a in shp_a.iterrows():\n",
    "    possible_matches_index = list(sindex_b.intersection(geometry_a['geometry'].bounds))\n",
    "    possible_matches = shp_b.iloc[possible_matches_index]\n",
    "\n",
    "    if not possible_matches.empty:\n",
    "        \n",
    "        intersecting_geoms = possible_matches[possible_matches.geometry.intersects(geometry_a['geometry'])]\n",
    "\n",
    "        if not intersecting_geoms.empty:\n",
    "            result_A.append(geometry_a)\n",
    "\n",
    "# Tạo GeoDataFrame từ kết quả\n",
    "selected_from_shp_a = gpd.GeoDataFrame(result_A, crs=shp_a.crs)\n",
    "result = gpd.overlay(shp_a, selected_from_shp_a, how='difference')\n",
    "result.to_file('/home/skymap/data/Bahrain_change/allqc/BAOCAO_27_2/test/ok.shp')"
   ]
  },
  {
   "cell_type": "code",
   "execution_count": 1,
   "metadata": {},
   "outputs": [
    {
     "name": "stdout",
     "output_type": "stream",
     "text": [
      "/home/skymap/data/Bahrain_change/allqc/BAOCAO_25_3/TEST_kq_cac_epoch/Epoc_681/delete_90/SET_1819.shp\n",
      "3343\n",
      "3142\n",
      "/home/skymap/data/Bahrain_change/allqc/BAOCAO_25_3/TEST_kq_cac_epoch/Epoc_681/delete_90/SET_2223.shp\n",
      "2239\n",
      "2105\n"
     ]
    }
   ],
   "source": [
    "import geopandas as gpd\n",
    "\n",
    "import os, glob\n",
    "input_dir = '/home/skymap/data/Bahrain_change/allqc/BAOCAO_25_3/TEST_kq_cac_epoch/Epoc_681/delete_90'\n",
    "for fp_shp in glob.glob(os.path.join(input_dir,'*.shp')):\n",
    "    print(fp_shp)\n",
    "# Đọc shapefile vào GeoDataFrame\n",
    "    data = gpd.read_file(fp_shp)\n",
    "    print(len(data))\n",
    "\n",
    "    # Tính diện tích của mỗi đa giác\n",
    "    data['area'] = data.area\n",
    "\n",
    "    # Lọc ra các đa giác có diện tích lớn hơn hoặc bằng 50\n",
    "    data_filtered = data[data['area'] >= 90]\n",
    "\n",
    "    # Loại bỏ cột 'area'\n",
    "    data_filtered = data_filtered.drop(columns=['area'])\n",
    "    print(len(data_filtered))\n",
    "    # Lưu GeoDataFrame sau khi lọc vào một shapefile mới\n",
    "    data_filtered.to_file(fp_shp)"
   ]
  },
  {
   "cell_type": "code",
   "execution_count": null,
   "metadata": {},
   "outputs": [],
   "source": []
  }
 ],
 "metadata": {
  "kernelspec": {
   "display_name": "tf2.7",
   "language": "python",
   "name": "python3"
  },
  "language_info": {
   "codemirror_mode": {
    "name": "ipython",
    "version": 3
   },
   "file_extension": ".py",
   "mimetype": "text/x-python",
   "name": "python",
   "nbconvert_exporter": "python",
   "pygments_lexer": "ipython3",
   "version": "3.8.13"
  }
 },
 "nbformat": 4,
 "nbformat_minor": 2
}
